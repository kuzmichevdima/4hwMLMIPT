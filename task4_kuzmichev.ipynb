{
 "cells": [
  {
   "cell_type": "code",
   "execution_count": 1,
   "metadata": {
    "collapsed": true
   },
   "outputs": [],
   "source": [
    "import pandas\n",
    "def read_data(path, columns, used=None):\n",
    "    df = pandas.read_csv(path, header=None, delimiter='\\t')\n",
    "    df.columns = columns\n",
    "    if used:\n",
    "        df = df[used]\n",
    "    return df\n",
    "def groupby(df, column):\n",
    "    df = pandas.DataFrame(df.groupby('id')[column].apply(lambda x: x.tolist()))\n",
    "    df['id'] = df.index\n",
    "    df.index = range(len(df))\n",
    "    return df\n"
   ]
  },
  {
   "cell_type": "code",
   "execution_count": 2,
   "metadata": {
    "collapsed": false
   },
   "outputs": [],
   "source": [
    "urls_train = groupby(read_data('url_domain_train', ['id', 'url', '_'], ['id', 'url']), 'url')\n",
    "titles_train = groupby(read_data('title_unify_train', ['id', 'title', '_'], ['id', 'title']), 'title')\n",
    "age_train = read_data('age_profile_train', ['id', 'age'])"
   ]
  },
  {
   "cell_type": "code",
   "execution_count": 3,
   "metadata": {
    "collapsed": false
   },
   "outputs": [],
   "source": [
    "def merge_by_id(lst, how='left'):\n",
    "    result = lst[0]\n",
    "    for df in lst[1:]:\n",
    "        result = result.merge(df, on='id', how=how)\n",
    "    return result\n",
    "titles_train = merge_by_id([titles_train, age_train])\n",
    "urls_train = merge_by_id([urls_train, age_train])"
   ]
  },
  {
   "cell_type": "code",
   "execution_count": 4,
   "metadata": {
    "collapsed": false
   },
   "outputs": [
    {
     "data": {
      "text/html": [
       "<div>\n",
       "<table border=\"1\" class=\"dataframe\">\n",
       "  <thead>\n",
       "    <tr style=\"text-align: right;\">\n",
       "      <th></th>\n",
       "      <th>title</th>\n",
       "      <th>id</th>\n",
       "      <th>age</th>\n",
       "    </tr>\n",
       "  </thead>\n",
       "  <tbody>\n",
       "    <tr>\n",
       "      <th>0</th>\n",
       "      <td>[бесплатный надёжный почта рамблер электронный...</td>\n",
       "      <td>000000013CB5719C0000A2C90002C101</td>\n",
       "      <td>53</td>\n",
       "    </tr>\n",
       "    <tr>\n",
       "      <th>1</th>\n",
       "      <td>[24-х 34-х до договор неделя новость предложит...</td>\n",
       "      <td>00000001442BE24000001B7D00F50801</td>\n",
       "      <td>48</td>\n",
       "    </tr>\n",
       "    <tr>\n",
       "      <th>2</th>\n",
       "      <td>[авто бош контакт королёв сервис, авто бош кор...</td>\n",
       "      <td>00000001448580F800003F1B31FB0901</td>\n",
       "      <td>28</td>\n",
       "    </tr>\n",
       "    <tr>\n",
       "      <th>3</th>\n",
       "      <td>[ua втрать війни донбасі за на новини озвучить...</td>\n",
       "      <td>0000000145BDB2FF000157971645E901</td>\n",
       "      <td>44</td>\n",
       "    </tr>\n",
       "    <tr>\n",
       "      <th>4</th>\n",
       "      <td>[black walnut грецкий орех чёрный, inmoment ru...</td>\n",
       "      <td>000000014602771F0000DB9359714C01</td>\n",
       "      <td>48</td>\n",
       "    </tr>\n",
       "  </tbody>\n",
       "</table>\n",
       "</div>"
      ],
      "text/plain": [
       "                                               title  \\\n",
       "0  [бесплатный надёжный почта рамблер электронный...   \n",
       "1  [24-х 34-х до договор неделя новость предложит...   \n",
       "2  [авто бош контакт королёв сервис, авто бош кор...   \n",
       "3  [ua втрать війни донбасі за на новини озвучить...   \n",
       "4  [black walnut грецкий орех чёрный, inmoment ru...   \n",
       "\n",
       "                                 id  age  \n",
       "0  000000013CB5719C0000A2C90002C101   53  \n",
       "1  00000001442BE24000001B7D00F50801   48  \n",
       "2  00000001448580F800003F1B31FB0901   28  \n",
       "3  0000000145BDB2FF000157971645E901   44  \n",
       "4  000000014602771F0000DB9359714C01   48  "
      ]
     },
     "execution_count": 4,
     "metadata": {},
     "output_type": "execute_result"
    }
   ],
   "source": [
    "titles_train.head()"
   ]
  },
  {
   "cell_type": "markdown",
   "metadata": {},
   "source": [
    "# word2vec"
   ]
  },
  {
   "cell_type": "code",
   "execution_count": 5,
   "metadata": {
    "collapsed": true
   },
   "outputs": [],
   "source": [
    "from gensim.models import word2vec\n",
    "from tqdm import tqdm\n",
    "WVModel = word2vec.Word2Vec.load_word2vec_format('ruscorpora_russe.model.bin', binary=True)"
   ]
  },
  {
   "cell_type": "code",
   "execution_count": 6,
   "metadata": {
    "collapsed": false
   },
   "outputs": [],
   "source": [
    "import numpy as np\n",
    "def WVgetVector(s):\n",
    "    try:\n",
    "        s = s.decode('utf-8')\n",
    "        return WVModel[s]\n",
    "    except KeyError:\n",
    "        return None\n",
    "\n",
    "def WVgetMean(title):\n",
    "    sum_vec = np.zeros(300)\n",
    "    cnt = 0\n",
    "    for word in title.split():\n",
    "        vec = WVgetVector(word)\n",
    "        if vec is not None:\n",
    "            sum_vec += vec\n",
    "            cnt += 1\n",
    "    return sum_vec if cnt == 0 else sum_vec / cnt"
   ]
  },
  {
   "cell_type": "code",
   "execution_count": 7,
   "metadata": {
    "collapsed": false
   },
   "outputs": [
    {
     "name": "stderr",
     "output_type": "stream",
     "text": [
      "100%|██████████| 114156/114156 [02:45<00:00, 690.59it/s]\n"
     ]
    }
   ],
   "source": [
    "mean = np.frompyfunc(lambda title: WVgetMean(title), 1, 1)\n",
    "titles = titles_train.title.values\n",
    "titles_vectors = []\n",
    "for i in tqdm(xrange(titles.shape[0])):\n",
    "    titles_vectors.append(np.mean(mean(titles[i]), axis=0))"
   ]
  },
  {
   "cell_type": "code",
   "execution_count": 8,
   "metadata": {
    "collapsed": false
   },
   "outputs": [],
   "source": [
    "titles_train['title'] = titles_vectors"
   ]
  },
  {
   "cell_type": "code",
   "execution_count": 9,
   "metadata": {
    "collapsed": false
   },
   "outputs": [
    {
     "data": {
      "text/html": [
       "<div>\n",
       "<table border=\"1\" class=\"dataframe\">\n",
       "  <thead>\n",
       "    <tr style=\"text-align: right;\">\n",
       "      <th></th>\n",
       "      <th>title</th>\n",
       "      <th>id</th>\n",
       "      <th>age</th>\n",
       "    </tr>\n",
       "  </thead>\n",
       "  <tbody>\n",
       "    <tr>\n",
       "      <th>0</th>\n",
       "      <td>[-0.0423593497835, -0.0231449574931, -0.012383...</td>\n",
       "      <td>000000013CB5719C0000A2C90002C101</td>\n",
       "      <td>53</td>\n",
       "    </tr>\n",
       "    <tr>\n",
       "      <th>1</th>\n",
       "      <td>[-0.00724858875954, -0.0113910311609, -0.00123...</td>\n",
       "      <td>00000001442BE24000001B7D00F50801</td>\n",
       "      <td>48</td>\n",
       "    </tr>\n",
       "    <tr>\n",
       "      <th>2</th>\n",
       "      <td>[-0.0715595599419, -0.0380741873135, -0.011201...</td>\n",
       "      <td>00000001448580F800003F1B31FB0901</td>\n",
       "      <td>28</td>\n",
       "    </tr>\n",
       "    <tr>\n",
       "      <th>3</th>\n",
       "      <td>[-0.00796721526093, -0.0126409986358, -0.00674...</td>\n",
       "      <td>0000000145BDB2FF000157971645E901</td>\n",
       "      <td>44</td>\n",
       "    </tr>\n",
       "    <tr>\n",
       "      <th>4</th>\n",
       "      <td>[-0.0021002106406, -0.0144115539994, 0.0070514...</td>\n",
       "      <td>000000014602771F0000DB9359714C01</td>\n",
       "      <td>48</td>\n",
       "    </tr>\n",
       "    <tr>\n",
       "      <th>5</th>\n",
       "      <td>[-0.0263486382858, -0.022821068325, 0.00790173...</td>\n",
       "      <td>0000000147B2D6F311DB5C4201B7FB01</td>\n",
       "      <td>36</td>\n",
       "    </tr>\n",
       "    <tr>\n",
       "      <th>6</th>\n",
       "      <td>[-0.0138793526888, -0.0185326298431, 0.0177503...</td>\n",
       "      <td>0000000147C68954150168D701A8B801</td>\n",
       "      <td>33</td>\n",
       "    </tr>\n",
       "    <tr>\n",
       "      <th>7</th>\n",
       "      <td>[-0.042946446157, -0.017138306066, 0.004210277...</td>\n",
       "      <td>0000000147EB76D738CD80750C879701</td>\n",
       "      <td>41</td>\n",
       "    </tr>\n",
       "    <tr>\n",
       "      <th>8</th>\n",
       "      <td>[-0.0369529514108, -0.00294468662543, 0.021808...</td>\n",
       "      <td>00000001482AAFB69FA5228008AC2A01</td>\n",
       "      <td>51</td>\n",
       "    </tr>\n",
       "    <tr>\n",
       "      <th>9</th>\n",
       "      <td>[-0.0230195817195, 0.0161863335253, 0.01337973...</td>\n",
       "      <td>0000000148390BB56A6B22BB178D3901</td>\n",
       "      <td>32</td>\n",
       "    </tr>\n",
       "  </tbody>\n",
       "</table>\n",
       "</div>"
      ],
      "text/plain": [
       "                                               title  \\\n",
       "0  [-0.0423593497835, -0.0231449574931, -0.012383...   \n",
       "1  [-0.00724858875954, -0.0113910311609, -0.00123...   \n",
       "2  [-0.0715595599419, -0.0380741873135, -0.011201...   \n",
       "3  [-0.00796721526093, -0.0126409986358, -0.00674...   \n",
       "4  [-0.0021002106406, -0.0144115539994, 0.0070514...   \n",
       "5  [-0.0263486382858, -0.022821068325, 0.00790173...   \n",
       "6  [-0.0138793526888, -0.0185326298431, 0.0177503...   \n",
       "7  [-0.042946446157, -0.017138306066, 0.004210277...   \n",
       "8  [-0.0369529514108, -0.00294468662543, 0.021808...   \n",
       "9  [-0.0230195817195, 0.0161863335253, 0.01337973...   \n",
       "\n",
       "                                 id  age  \n",
       "0  000000013CB5719C0000A2C90002C101   53  \n",
       "1  00000001442BE24000001B7D00F50801   48  \n",
       "2  00000001448580F800003F1B31FB0901   28  \n",
       "3  0000000145BDB2FF000157971645E901   44  \n",
       "4  000000014602771F0000DB9359714C01   48  \n",
       "5  0000000147B2D6F311DB5C4201B7FB01   36  \n",
       "6  0000000147C68954150168D701A8B801   33  \n",
       "7  0000000147EB76D738CD80750C879701   41  \n",
       "8  00000001482AAFB69FA5228008AC2A01   51  \n",
       "9  0000000148390BB56A6B22BB178D3901   32  "
      ]
     },
     "execution_count": 9,
     "metadata": {},
     "output_type": "execute_result"
    }
   ],
   "source": [
    "titles_train.head(10)"
   ]
  },
  {
   "cell_type": "code",
   "execution_count": 10,
   "metadata": {
    "collapsed": false
   },
   "outputs": [],
   "source": [
    "X_train_titles = np.asarray(titles_train.title.values.tolist())\n",
    "y_train_titles = titles_train.age.values"
   ]
  },
  {
   "cell_type": "markdown",
   "metadata": {},
   "source": [
    "# RandomForestRegressor"
   ]
  },
  {
   "cell_type": "code",
   "execution_count": 11,
   "metadata": {
    "collapsed": false
   },
   "outputs": [
    {
     "name": "stdout",
     "output_type": "stream",
     "text": [
      "[-177.98247481 -177.16638336 -164.74162027]\n"
     ]
    },
    {
     "name": "stderr",
     "output_type": "stream",
     "text": [
      "[Parallel(n_jobs=1)]: Done   3 out of   3 | elapsed:  1.2min finished\n"
     ]
    }
   ],
   "source": [
    "from sklearn.ensemble import RandomForestRegressor\n",
    "from sklearn.cross_validation import cross_val_score\n",
    "def tryRandomForest():\n",
    "    randomForest = RandomForestRegressor(n_estimators=5, n_jobs=8)\n",
    "    return cross_val_score(randomForest, X_train_titles, y_train_titles, scoring='mean_squared_error', verbose=True)\n",
    "print(tryRandomForest())"
   ]
  },
  {
   "cell_type": "code",
   "execution_count": 57,
   "metadata": {
    "collapsed": false
   },
   "outputs": [
    {
     "name": "stderr",
     "output_type": "stream",
     "text": [
      "[Parallel(n_jobs=8)]: Done  34 tasks      | elapsed:  3.6min\n",
      "[Parallel(n_jobs=8)]: Done  50 out of  50 | elapsed:  5.1min finished\n"
     ]
    },
    {
     "data": {
      "text/plain": [
       "RandomForestRegressor(bootstrap=True, criterion='mse', max_depth=None,\n",
       "           max_features='auto', max_leaf_nodes=None, min_samples_leaf=1,\n",
       "           min_samples_split=2, min_weight_fraction_leaf=0.0,\n",
       "           n_estimators=50, n_jobs=8, oob_score=False, random_state=None,\n",
       "           verbose=True, warm_start=False)"
      ]
     },
     "execution_count": 57,
     "metadata": {},
     "output_type": "execute_result"
    }
   ],
   "source": [
    "randomForest = RandomForestRegressor(n_estimators=500, n_jobs=8, verbose=True)\n",
    "randomForest.fit(X_train_titles, y_train_titles)"
   ]
  },
  {
   "cell_type": "markdown",
   "metadata": {},
   "source": [
    "# TF-IDF"
   ]
  },
  {
   "cell_type": "code",
   "execution_count": 13,
   "metadata": {
    "collapsed": false
   },
   "outputs": [],
   "source": [
    "from sklearn.feature_extraction.text import HashingVectorizer\n",
    "from sklearn.feature_extraction.text import TfidfTransformer\n",
    "\n",
    "N_FEATURES = 900\n",
    "\n",
    "to_string = lambda urls : ' '.join(map(lambda url: url.replace('.', ' '), urls))\n",
    "\n",
    "urls_str = map(to_string, urls_train.url.values)\n",
    "urls_hashed = HashingVectorizer(n_features=N_FEATURES).fit(urls_str).transform(urls_str).todense()\n",
    "\n",
    "tfidf = TfidfTransformer()\n",
    "X_train_urls, y_train_urls = tfidf.fit_transform(urls_hashed), urls_train.age.values"
   ]
  },
  {
   "cell_type": "markdown",
   "metadata": {},
   "source": [
    "# LinearRegression"
   ]
  },
  {
   "cell_type": "code",
   "execution_count": 14,
   "metadata": {
    "collapsed": false
   },
   "outputs": [
    {
     "name": "stderr",
     "output_type": "stream",
     "text": [
      "[Parallel(n_jobs=1)]: Done   3 out of   3 | elapsed:    1.4s finished\n"
     ]
    },
    {
     "data": {
      "text/plain": [
       "array([ 147.56601435,  147.02812789,  131.19296535])"
      ]
     },
     "execution_count": 14,
     "metadata": {},
     "output_type": "execute_result"
    }
   ],
   "source": [
    "from sklearn.linear_model import LinearRegression\n",
    "def tryLinearRegression():\n",
    "    linearRegression = LinearRegression(n_jobs=8)\n",
    "    return -cross_val_score(linearRegression, X_train_urls, y_train_urls, scoring='mean_squared_error', verbose=True)\n",
    "tryLinearRegression()"
   ]
  },
  {
   "cell_type": "code",
   "execution_count": 15,
   "metadata": {
    "collapsed": false
   },
   "outputs": [
    {
     "data": {
      "text/plain": [
       "LinearRegression(copy_X=True, fit_intercept=True, n_jobs=8, normalize=False)"
      ]
     },
     "execution_count": 15,
     "metadata": {},
     "output_type": "execute_result"
    }
   ],
   "source": [
    "linearRegression = LinearRegression(n_jobs=8)\n",
    "linearRegression.fit(X_train_urls, y_train_urls)"
   ]
  },
  {
   "cell_type": "markdown",
   "metadata": {},
   "source": [
    "# Stacking"
   ]
  },
  {
   "cell_type": "code",
   "execution_count": 58,
   "metadata": {
    "collapsed": false
   },
   "outputs": [],
   "source": [
    "titles_test = titles_train[100000:]\n",
    "urls_test = urls_train[100000:]"
   ]
  },
  {
   "cell_type": "code",
   "execution_count": 59,
   "metadata": {
    "collapsed": false
   },
   "outputs": [],
   "source": [
    "stacking = merge_by_id([titles_test, urls_test[['id', 'url']]], how='inner')"
   ]
  },
  {
   "cell_type": "code",
   "execution_count": 60,
   "metadata": {
    "collapsed": false
   },
   "outputs": [
    {
     "data": {
      "text/html": [
       "<div>\n",
       "<table border=\"1\" class=\"dataframe\">\n",
       "  <thead>\n",
       "    <tr style=\"text-align: right;\">\n",
       "      <th></th>\n",
       "      <th>title</th>\n",
       "      <th>id</th>\n",
       "      <th>age</th>\n",
       "      <th>url</th>\n",
       "    </tr>\n",
       "  </thead>\n",
       "  <tbody>\n",
       "    <tr>\n",
       "      <th>0</th>\n",
       "      <td>[-0.014372407844, -0.00740332908178, 0.0212872...</td>\n",
       "      <td>061C5B62540224B100000751708F1301</td>\n",
       "      <td>30</td>\n",
       "      <td>[airlines-inform.ru, avto-blogger.ru, champion...</td>\n",
       "    </tr>\n",
       "    <tr>\n",
       "      <th>1</th>\n",
       "      <td>[-0.043120008601, -0.0097937361085, 0.01620212...</td>\n",
       "      <td>061C5C4256F7CB9D0000055C06ACD801</td>\n",
       "      <td>41</td>\n",
       "      <td>[aif.ru, happymodern.ru, kirillovka.3dn.ru, ma...</td>\n",
       "    </tr>\n",
       "    <tr>\n",
       "      <th>2</th>\n",
       "      <td>[0.00490492552159, -0.00767485422944, -0.00654...</td>\n",
       "      <td>061C5CD9567BB3CF0000054E46EBFE01</td>\n",
       "      <td>32</td>\n",
       "      <td>[63.mchs.gov.ru, assessor.ru, base.garant.ru, ...</td>\n",
       "    </tr>\n",
       "    <tr>\n",
       "      <th>3</th>\n",
       "      <td>[-0.0228744970202, -0.000863650096662, 0.00609...</td>\n",
       "      <td>061C5DDC56E680DF0000054BA6199601</td>\n",
       "      <td>43</td>\n",
       "      <td>[cheaton.ru, mail.rambler.ru, news.smi2.ru, ph...</td>\n",
       "    </tr>\n",
       "    <tr>\n",
       "      <th>4</th>\n",
       "      <td>[-0.0273688068458, -0.0176658553532, 0.0096148...</td>\n",
       "      <td>061C5E3F548EC0C300017BDA5247F801</td>\n",
       "      <td>27</td>\n",
       "      <td>[33devici.ru, belgorod.hh.ru, belgorod.superjo...</td>\n",
       "    </tr>\n",
       "  </tbody>\n",
       "</table>\n",
       "</div>"
      ],
      "text/plain": [
       "                                               title  \\\n",
       "0  [-0.014372407844, -0.00740332908178, 0.0212872...   \n",
       "1  [-0.043120008601, -0.0097937361085, 0.01620212...   \n",
       "2  [0.00490492552159, -0.00767485422944, -0.00654...   \n",
       "3  [-0.0228744970202, -0.000863650096662, 0.00609...   \n",
       "4  [-0.0273688068458, -0.0176658553532, 0.0096148...   \n",
       "\n",
       "                                 id  age  \\\n",
       "0  061C5B62540224B100000751708F1301   30   \n",
       "1  061C5C4256F7CB9D0000055C06ACD801   41   \n",
       "2  061C5CD9567BB3CF0000054E46EBFE01   32   \n",
       "3  061C5DDC56E680DF0000054BA6199601   43   \n",
       "4  061C5E3F548EC0C300017BDA5247F801   27   \n",
       "\n",
       "                                                 url  \n",
       "0  [airlines-inform.ru, avto-blogger.ru, champion...  \n",
       "1  [aif.ru, happymodern.ru, kirillovka.3dn.ru, ma...  \n",
       "2  [63.mchs.gov.ru, assessor.ru, base.garant.ru, ...  \n",
       "3  [cheaton.ru, mail.rambler.ru, news.smi2.ru, ph...  \n",
       "4  [33devici.ru, belgorod.hh.ru, belgorod.superjo...  "
      ]
     },
     "execution_count": 60,
     "metadata": {},
     "output_type": "execute_result"
    }
   ],
   "source": [
    "stacking.head()"
   ]
  },
  {
   "cell_type": "code",
   "execution_count": 61,
   "metadata": {
    "collapsed": false
   },
   "outputs": [],
   "source": [
    "def getTitlesPrediction():\n",
    "    X_train_titles = np.asarray(stacking.title.values.tolist())\n",
    "    return randomForest.predict(X_train_titles)"
   ]
  },
  {
   "cell_type": "code",
   "execution_count": 62,
   "metadata": {
    "collapsed": true
   },
   "outputs": [],
   "source": [
    "def getUrlsPrediction():\n",
    "    urls_str = map(to_string, stacking.url.values)\n",
    "    hashingVectorizer = HashingVectorizer(n_features=N_FEATURES).fit(urls_str)\n",
    "    urls_hashed = hashingVectorizer.transform(urls_str).todense()\n",
    "    X_test_urls = tfidf.transform(urls_hashed)\n",
    "    return linearRegression.predict(X_test_urls)"
   ]
  },
  {
   "cell_type": "code",
   "execution_count": 63,
   "metadata": {
    "collapsed": false
   },
   "outputs": [
    {
     "name": "stderr",
     "output_type": "stream",
     "text": [
      "[Parallel(n_jobs=8)]: Done  34 tasks      | elapsed:    0.1s\n",
      "[Parallel(n_jobs=8)]: Done  50 out of  50 | elapsed:    0.1s finished\n"
     ]
    },
    {
     "data": {
      "text/html": [
       "<div>\n",
       "<table border=\"1\" class=\"dataframe\">\n",
       "  <thead>\n",
       "    <tr style=\"text-align: right;\">\n",
       "      <th></th>\n",
       "      <th>id</th>\n",
       "      <th>age_t</th>\n",
       "      <th>age_u</th>\n",
       "      <th>age</th>\n",
       "    </tr>\n",
       "  </thead>\n",
       "  <tbody>\n",
       "    <tr>\n",
       "      <th>0</th>\n",
       "      <td>061C5B62540224B100000751708F1301</td>\n",
       "      <td>31.80</td>\n",
       "      <td>32.904475</td>\n",
       "      <td>30</td>\n",
       "    </tr>\n",
       "    <tr>\n",
       "      <th>1</th>\n",
       "      <td>061C5C4256F7CB9D0000055C06ACD801</td>\n",
       "      <td>39.44</td>\n",
       "      <td>39.725408</td>\n",
       "      <td>41</td>\n",
       "    </tr>\n",
       "    <tr>\n",
       "      <th>2</th>\n",
       "      <td>061C5CD9567BB3CF0000054E46EBFE01</td>\n",
       "      <td>34.00</td>\n",
       "      <td>35.266306</td>\n",
       "      <td>32</td>\n",
       "    </tr>\n",
       "    <tr>\n",
       "      <th>3</th>\n",
       "      <td>061C5DDC56E680DF0000054BA6199601</td>\n",
       "      <td>37.94</td>\n",
       "      <td>42.309956</td>\n",
       "      <td>43</td>\n",
       "    </tr>\n",
       "    <tr>\n",
       "      <th>4</th>\n",
       "      <td>061C5E3F548EC0C300017BDA5247F801</td>\n",
       "      <td>28.34</td>\n",
       "      <td>29.724097</td>\n",
       "      <td>27</td>\n",
       "    </tr>\n",
       "  </tbody>\n",
       "</table>\n",
       "</div>"
      ],
      "text/plain": [
       "                                 id  age_t      age_u  age\n",
       "0  061C5B62540224B100000751708F1301  31.80  32.904475   30\n",
       "1  061C5C4256F7CB9D0000055C06ACD801  39.44  39.725408   41\n",
       "2  061C5CD9567BB3CF0000054E46EBFE01  34.00  35.266306   32\n",
       "3  061C5DDC56E680DF0000054BA6199601  37.94  42.309956   43\n",
       "4  061C5E3F548EC0C300017BDA5247F801  28.34  29.724097   27"
      ]
     },
     "execution_count": 63,
     "metadata": {},
     "output_type": "execute_result"
    }
   ],
   "source": [
    "stacking['age_t'] = getTitlesPrediction()\n",
    "stacking['age_u'] = getUrlsPrediction()\n",
    "stacking = stacking[['id', 'age_t', 'age_u', 'age']]\n",
    "stacking.columns = ['id', 'age_t', 'age_u', 'age']\n",
    "stacking.head()"
   ]
  },
  {
   "cell_type": "code",
   "execution_count": 64,
   "metadata": {
    "collapsed": true
   },
   "outputs": [],
   "source": [
    "X_train_age, y_train_age = stacking[['age_t', 'age_u']].values, stacking['age'].values"
   ]
  },
  {
   "cell_type": "code",
   "execution_count": 65,
   "metadata": {
    "collapsed": false
   },
   "outputs": [
    {
     "name": "stdout",
     "output_type": "stream",
     "text": [
      "[ 14.09757125  12.02868     15.33608585]\n"
     ]
    },
    {
     "name": "stderr",
     "output_type": "stream",
     "text": [
      "[Parallel(n_jobs=1)]: Done   3 out of   3 | elapsed:    0.0s finished\n"
     ]
    }
   ],
   "source": [
    "stackingLR = LinearRegression(n_jobs=8)\n",
    "stackingLR.fit(X_train_age, y_train_age)\n",
    "print(-cross_val_score(stackingLR, X_train_age, y_train_age, scoring='mean_squared_error', verbose=True))\n",
    "\n"
   ]
  },
  {
   "cell_type": "markdown",
   "metadata": {},
   "source": [
    "# Prediction on test data"
   ]
  },
  {
   "cell_type": "code",
   "execution_count": 149,
   "metadata": {
    "collapsed": false
   },
   "outputs": [],
   "source": [
    "def predictionOnTest():\n",
    "    global test, urls_test, titles_test\n",
    "    urls_test = groupby(read_data('url_domain_test', ['id', 'url', '_'], ['id', 'url']), 'url')\n",
    "    titles_test = groupby(read_data('title_unify_test', ['id', 'title', '_'], ['id', 'title']), 'title')\n",
    "    test = merge_by_id([titles_test, urls_test], how='inner')\n",
    "    print(len(test))\n",
    "    test_titles = test.title.values\n",
    "    titles_vectors = []\n",
    "    for i in tqdm(xrange(test_titles.shape[0])):\n",
    "        titles_vectors.append(np.mean(mean(test_titles[i]), axis=0))\n",
    "    y_pred_titles = randomForest.predict(titles_vectors)\n",
    "    urls_str = map(to_string, test.url.values)\n",
    "    urls_transformed = tfidf.transform(HashingVectorizer(n_features=N_FEATURES).fit(urls_str).transform(urls_str).todense())\n",
    "    y_pred_urls = linearRegression.predict(urls_transformed)\n",
    "    stacked_pred = np.hstack([y_pred_titles[:, None], y_pred_urls[:, None]])\n",
    "    return stackingLR.predict(stacked_pred)\n"
   ]
  },
  {
   "cell_type": "code",
   "execution_count": 150,
   "metadata": {
    "collapsed": false
   },
   "outputs": [
    {
     "name": "stderr",
     "output_type": "stream",
     "text": [
      "  0%|          | 30/19955 [00:00<01:15, 262.37it/s]"
     ]
    },
    {
     "name": "stdout",
     "output_type": "stream",
     "text": [
      "19955\n"
     ]
    },
    {
     "name": "stderr",
     "output_type": "stream",
     "text": [
      "100%|██████████| 19955/19955 [01:05<00:00, 306.99it/s]\n",
      "[Parallel(n_jobs=8)]: Done  34 tasks      | elapsed:    0.1s\n",
      "[Parallel(n_jobs=8)]: Done  50 out of  50 | elapsed:    0.1s finished\n"
     ]
    }
   ],
   "source": [
    "y_pred = predictionOnTest()"
   ]
  },
  {
   "cell_type": "code",
   "execution_count": 151,
   "metadata": {
    "collapsed": false
   },
   "outputs": [
    {
     "name": "stdout",
     "output_type": "stream",
     "text": [
      "(19955, 19955)\n"
     ]
    }
   ],
   "source": [
    "print(len(test), len(y_pred))"
   ]
  },
  {
   "cell_type": "code",
   "execution_count": 152,
   "metadata": {
    "collapsed": false
   },
   "outputs": [],
   "source": [
    "test['age'] = y_pred\n",
    "test = test[['id', 'age']]\n",
    "test.columns = ['Id', 'age']\n"
   ]
  },
  {
   "cell_type": "code",
   "execution_count": 153,
   "metadata": {
    "collapsed": false
   },
   "outputs": [
    {
     "name": "stdout",
     "output_type": "stream",
     "text": [
      "34.0209142938\n"
     ]
    }
   ],
   "source": [
    "avg = np.mean(y_train_age)\n",
    "print(avg)"
   ]
  },
  {
   "cell_type": "code",
   "execution_count": 154,
   "metadata": {
    "collapsed": false
   },
   "outputs": [],
   "source": [
    "def getMissTitles():\n",
    "    miss_title_ids = set(titles_test.id.values) - set(test.Id.values)\n",
    "    miss_titles = titles_test[titles_test['id'].isin(miss_title_ids)].copy()\n",
    "    miss_titles['age'] = avg\n",
    "    miss_titles = miss_titles[['id', 'age']]\n",
    "    miss_titles.columns = ['Id', 'age']\n",
    "    return miss_titles"
   ]
  },
  {
   "cell_type": "code",
   "execution_count": 155,
   "metadata": {
    "collapsed": false
   },
   "outputs": [],
   "source": [
    "def getMissUrls():\n",
    "    miss_url_ids = set(urls_test.id.values) - set(test.Id.values)\n",
    "    miss_urls = urls_test[urls_test['id'].isin(miss_url_ids)].copy()\n",
    "    miss_urls['age'] = avg\n",
    "    miss_urls = miss_urls[['id', 'age']]\n",
    "    miss_urls.columns = ['Id', 'age']\n",
    "    return miss_urls"
   ]
  },
  {
   "cell_type": "code",
   "execution_count": 156,
   "metadata": {
    "collapsed": false
   },
   "outputs": [],
   "source": [
    "missTitles = getMissTitles()\n",
    "missUrls = getMissUrls()"
   ]
  },
  {
   "cell_type": "code",
   "execution_count": 157,
   "metadata": {
    "collapsed": false
   },
   "outputs": [
    {
     "name": "stdout",
     "output_type": "stream",
     "text": [
      "5\n"
     ]
    }
   ],
   "source": [
    "print(len(missTitles))"
   ]
  },
  {
   "cell_type": "code",
   "execution_count": 158,
   "metadata": {
    "collapsed": true
   },
   "outputs": [],
   "source": [
    "final_test = test.append(missTitles, ignore_index=True)\n",
    "final_test = final_test.append(missUrls, ignore_index=True)\n",
    "final_test.to_csv('answer.csv', index=False)"
   ]
  },
  {
   "cell_type": "code",
   "execution_count": null,
   "metadata": {
    "collapsed": true
   },
   "outputs": [],
   "source": []
  }
 ],
 "metadata": {
  "kernelspec": {
   "display_name": "Python 2",
   "language": "python",
   "name": "python2"
  },
  "language_info": {
   "codemirror_mode": {
    "name": "ipython",
    "version": 2
   },
   "file_extension": ".py",
   "mimetype": "text/x-python",
   "name": "python",
   "nbconvert_exporter": "python",
   "pygments_lexer": "ipython2",
   "version": "2.7.6"
  }
 },
 "nbformat": 4,
 "nbformat_minor": 0
}
